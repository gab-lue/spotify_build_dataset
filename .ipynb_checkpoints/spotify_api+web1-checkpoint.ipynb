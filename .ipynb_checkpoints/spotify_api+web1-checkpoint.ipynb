{
 "cells": [
  {
   "cell_type": "code",
   "execution_count": null,
   "metadata": {},
   "outputs": [],
   "source": []
  },
  {
   "cell_type": "markdown",
   "metadata": {},
   "source": [
    "# Working with spotify web api and web scraping\n",
    "\n",
    "In this notebook the spotify web api will be used with the help of spotipy, a special spotify api package.\n",
    "\n",
    "The spotify web api will provide all necessary data that will build up to the latest music datasets in 2020\n",
    "\n",
    "\n",
    "**Following steps are included in the notebook:**\n",
    "\n",
    " - web api calls with spotypy\n",
    " - extracting data from the api as json\n",
    " - extracting data from web application with selenium\n",
    " - building pandas DataFrame from the web api data\n",
    " - storing the data into csv files for later analysis\n",
    "\n",
    ".\n",
    "**Goal**\n",
    "\n",
    "On later analysis will be focused on the most popular tracks in 2020. \\\n",
    "Means, for the dataset we need spotify playlist for most streamed track and artist, globally and for germany.\n",
    "\n",
    "Track information and artist information are necessary. Also the popularity value, a spotify index, is key for later analysis.\\\n",
    "\n",
    "Although the spotify audio features, values from their AI analysis, which will index specific features of how the music sound (e.g acoustic, danceability), will be gathered and stored for each track id.  \n",
    "\n",
    "Official Spotify api wont give any counts on play on a track, its not supported because of business related issues.\n",
    "\n",
    "Plays on a track are visible at the spotify web app, so it can get gathered through web scraping, which wil be done also in this notebook.\n",
    "\n",
    "\n",
    "\n"
   ]
  },
  {
   "cell_type": "markdown",
   "metadata": {},
   "source": [
    "# Preparation\n",
    "\n",
    "Importing all key librarys.\n",
    "- spotypy , for working with the spotify API, also the Oauth Handler for access\n",
    "- json, to read json strings\n",
    "- making DataFrames width to maximum with ipython.display\n"
   ]
  },
  {
   "cell_type": "code",
   "execution_count": 1,
   "metadata": {
    "ExecuteTime": {
     "end_time": "2020-12-14T13:39:43.480666Z",
     "start_time": "2020-12-14T13:39:43.033772Z"
    }
   },
   "outputs": [],
   "source": [
    "# import \n",
    "import pandas as pd\n",
    "import requests\n",
    "import spotipy \n",
    "import json\n",
    "from spotipy.oauth2 import SpotifyClientCredentials"
   ]
  },
  {
   "cell_type": "code",
   "execution_count": 2,
   "metadata": {
    "ExecuteTime": {
     "end_time": "2020-12-14T13:39:43.864684Z",
     "start_time": "2020-12-14T13:39:43.861706Z"
    }
   },
   "outputs": [],
   "source": [
    "# showing dataframes wihtout limitation\n",
    "from IPython.display import display\n",
    "pd.set_option('display.max_rows', None)\n",
    "pd.set_option('display.max_columns', None)\n",
    "pd.set_option('display.width', None)\n",
    "pd.set_option('display.max_colwidth', None)"
   ]
  },
  {
   "cell_type": "code",
   "execution_count": null,
   "metadata": {},
   "outputs": [],
   "source": []
  },
  {
   "cell_type": "markdown",
   "metadata": {},
   "source": [
    "For working with the api the cliend id and secret token have to be stored for later uses. \\\n",
    "The variable \"sp\" will store the api acces."
   ]
  },
  {
   "cell_type": "code",
   "execution_count": 3,
   "metadata": {
    "ExecuteTime": {
     "end_time": "2020-12-14T13:40:51.984900Z",
     "start_time": "2020-12-14T13:40:51.835803Z"
    }
   },
   "outputs": [],
   "source": [
    "# getting client \n",
    "\n",
    "client_id = 'f17e478090d248869355d07445e4ed15'\n",
    "\n",
    "secret = '882dabecb5484e8c9fcf34c63151a5a7'\n",
    "\n",
    "manager = SpotifyClientCredentials(client_id=client_id,client_secret=secret)\n",
    "response = requests.get('https://api.spotify.com/v1')\n",
    "response\n",
    "# set up spotify callable\n",
    "sp = spotipy.Spotify(client_credentials_manager=manager)"
   ]
  },
  {
   "cell_type": "code",
   "execution_count": null,
   "metadata": {},
   "outputs": [],
   "source": []
  },
  {
   "cell_type": "code",
   "execution_count": null,
   "metadata": {},
   "outputs": [],
   "source": []
  },
  {
   "cell_type": "code",
   "execution_count": null,
   "metadata": {},
   "outputs": [],
   "source": []
  },
  {
   "cell_type": "markdown",
   "metadata": {},
   "source": [
    "## Web scraping\n",
    "\n",
    "Using Selinium and ChromeWebDriver for getting Track playcounts, which aren´t supported by the spotify api.\n",
    "I tried to use BeautifulSoup for this but it was more difficult than writing 3 lines in Selenium.\n",
    "\n",
    "For this case the spotify web app will be scraped."
   ]
  },
  {
   "cell_type": "code",
   "execution_count": 4,
   "metadata": {
    "ExecuteTime": {
     "end_time": "2020-12-14T13:40:55.552131Z",
     "start_time": "2020-12-14T13:40:55.428638Z"
    }
   },
   "outputs": [],
   "source": [
    "import urllib.request\n",
    "import requests\n",
    "import time\n",
    "from bs4 import BeautifulSoup\n",
    "import re\n",
    "from selenium import webdriver\n",
    "from selenium.webdriver.common.by import By\n",
    "from selenium.webdriver.common.keys import Keys\n",
    "from selenium.webdriver.support.ui import WebDriverWait\n",
    "from selenium.webdriver.support.expected_conditions import presence_of_element_located\n",
    "\n",
    "options = webdriver.ChromeOptions()\n",
    "options.add_argument('--ignore-certificate-errors')\n",
    "options.add_argument(\"--test-type\")"
   ]
  },
  {
   "cell_type": "markdown",
   "metadata": {},
   "source": [
    "For the beginning i will set up  manual scraping code for getting a artist top track and with name of the track and plays on the track."
   ]
  },
  {
   "cell_type": "markdown",
   "metadata": {
    "scrolled": true
   },
   "source": [
    "- First the selenium webdriver have to be started. \n",
    "\n",
    "- For a reusable code the artist url will be stored as reusable variable. \n",
    "\n",
    "- The final callable is driver.get(url1). This will open the chrome website via selenium. \n",
    "\n",
    "A little timer is placed, that the webbrowser have time to open the actual link, before the following code is executed. This is important or click actions cant be performed."
   ]
  },
  {
   "cell_type": "markdown",
   "metadata": {},
   "source": [
    "## Building elements\n",
    "\n",
    "Single elements of the scraper will be build herer."
   ]
  },
  {
   "cell_type": "code",
   "execution_count": 5,
   "metadata": {
    "ExecuteTime": {
     "end_time": "2020-12-14T13:41:13.240761Z",
     "start_time": "2020-12-14T13:41:03.084632Z"
    }
   },
   "outputs": [
    {
     "name": "stderr",
     "output_type": "stream",
     "text": [
      "C:\\Users\\name1\\Anaconda3\\lib\\site-packages\\ipykernel_launcher.py:2: DeprecationWarning: use options instead of chrome_options\n",
      "  \n"
     ]
    }
   ],
   "source": [
    "#start web driver\n",
    "driver= webdriver.Chrome(executable_path=r\"C:\\Users\\name1\\Downloads\\chromedriver_win32\\chromedriver.exe\",chrome_options=options) #Path to Chrome Driver\n",
    "\n",
    "# setting up \n",
    "url = 'https://open.spotify.com'\n",
    "\n",
    "\n",
    "# artist id\n",
    "# example \"The Weekend\" a top artist\n",
    "artist_id = '1Xyo4u8uXC1ZmMpatF05PJ'\n",
    "\n",
    "#dynamic driver call\n",
    "url1 =url+'/artist/'+artist_id\n",
    "driver.get(url1)\n",
    "time.sleep(5)"
   ]
  },
  {
   "cell_type": "markdown",
   "metadata": {},
   "source": [
    "Now cookies have to be accepted. The accept button gets clicked with selenium. Afterwards the \"show more\" button have to be clicked that all tracks are expanded and we can gather all the track data from the browser."
   ]
  },
  {
   "cell_type": "code",
   "execution_count": 6,
   "metadata": {
    "ExecuteTime": {
     "end_time": "2020-12-14T13:41:13.359978Z",
     "start_time": "2020-12-14T13:41:13.256335Z"
    }
   },
   "outputs": [],
   "source": [
    "#click cockies agreement\n",
    "driver.find_element_by_id('onetrust-accept-btn-handler').click()\n"
   ]
  },
  {
   "cell_type": "code",
   "execution_count": null,
   "metadata": {
    "ExecuteTime": {
     "end_time": "2020-12-14T11:33:33.097832Z",
     "start_time": "2020-12-14T11:33:33.090848Z"
    }
   },
   "outputs": [],
   "source": [
    "#click \"show more \" to get all top track\n",
    "        driver.find_element_by_class_name('_8eaf9c7e0fab279ec19ca81d822db2ad-scss').click()"
   ]
  },
  {
   "cell_type": "code",
   "execution_count": null,
   "metadata": {},
   "outputs": [],
   "source": [
    "\n"
   ]
  },
  {
   "cell_type": "code",
   "execution_count": null,
   "metadata": {},
   "outputs": [],
   "source": []
  },
  {
   "cell_type": "code",
   "execution_count": null,
   "metadata": {
    "ExecuteTime": {
     "end_time": "2020-12-14T11:33:33.101820Z",
     "start_time": "2020-12-14T11:33:21.802Z"
    }
   },
   "outputs": [],
   "source": [
    "\"\"\"s= driver.find_elements_by_css_selector(\"h1\")\n",
    "for i in s:\n",
    "    print(i.text)\n",
    "    \"\"\"\n"
   ]
  },
  {
   "cell_type": "code",
   "execution_count": null,
   "metadata": {
    "ExecuteTime": {
     "end_time": "2020-12-14T11:33:33.102818Z",
     "start_time": "2020-12-14T11:33:21.804Z"
    }
   },
   "outputs": [],
   "source": [
    "# Get element with tag name 'div'\n",
    "element = driver.find_element(By.TAG_NAME, 'div')\n",
    "\n",
    "# Get all the elements available with tag name 'p'\n",
    "#elements = element.find_elements(By.TAG_NAME, '')\n"
   ]
  },
  {
   "cell_type": "markdown",
   "metadata": {},
   "source": [
    "To get Track names with releated playcounts selenium will load the webpage with the artist id.\n",
    "Then the html class names get triggered with the find_elemnts_by_class_name() method.\n",
    "\n",
    "Through the chrome browser the different class names got inspected and filled into the driver method.\n",
    "\n"
   ]
  },
  {
   "cell_type": "code",
   "execution_count": null,
   "metadata": {
    "ExecuteTime": {
     "end_time": "2020-12-14T11:33:33.105809Z",
     "start_time": "2020-12-14T11:33:21.878Z"
    }
   },
   "outputs": [],
   "source": [
    "# get top track playcount\n",
    "playcount = driver.find_elements_by_class_name(\"d47b790d001ed769adcd9ddfc0e83acc-scss\")\n",
    "\"\"\"\n",
    "#testing \n",
    "for i in playcount:\n",
    "    print(i.text)\n",
    "    break\"\"\"\n",
    "# get top tracks names\n",
    "track_names=driver.find_elements_by_class_name('da0bc4060bb1bdb4abb8e402916af32e-scss')"
   ]
  },
  {
   "cell_type": "code",
   "execution_count": null,
   "metadata": {
    "ExecuteTime": {
     "end_time": "2020-12-14T11:33:33.107805Z",
     "start_time": "2020-12-14T11:33:21.881Z"
    }
   },
   "outputs": [],
   "source": [
    "# get all playcounts\n",
    "cts=0\n",
    "for i in range(len(playcount)):\n",
    "    print(track_names[cts].text,playcount[cts].text)\n",
    "    cts=cts+1"
   ]
  },
  {
   "cell_type": "code",
   "execution_count": null,
   "metadata": {
    "ExecuteTime": {
     "end_time": "2020-12-14T11:33:33.108802Z",
     "start_time": "2020-12-14T11:33:21.884Z"
    }
   },
   "outputs": [],
   "source": [
    "# get reusable playcount code\n",
    "cts1=0\n",
    "lst= []\n",
    "for i in range(len(playcount)):\n",
    "    track_name = track_names[cts1].text\n",
    "    plays = playcount[cts1].text\n",
    "    lst.append({'track':track_name,\n",
    "               'plays':plays})\n",
    "    \n",
    "    cts1=cts1+1"
   ]
  },
  {
   "cell_type": "markdown",
   "metadata": {},
   "source": [
    "##### Final test code \n",
    "This test code will get a specefied track name from selenium webdriver. Then it will gather the related playcount."
   ]
  },
  {
   "cell_type": "code",
   "execution_count": 7,
   "metadata": {
    "ExecuteTime": {
     "end_time": "2020-12-14T13:41:13.496809Z",
     "start_time": "2020-12-14T13:41:13.373941Z"
    }
   },
   "outputs": [
    {
     "ename": "NameError",
     "evalue": "name 'playcount' is not defined",
     "output_type": "error",
     "traceback": [
      "\u001b[1;31m---------------------------------------------------------------------------\u001b[0m",
      "\u001b[1;31mNameError\u001b[0m                                 Traceback (most recent call last)",
      "\u001b[1;32m<ipython-input-7-fd2bebcdaa4f>\u001b[0m in \u001b[0;36m<module>\u001b[1;34m\u001b[0m\n\u001b[0;32m      1\u001b[0m \u001b[1;31m#test code, whith the Track \"The Hills\" from the artist\u001b[0m\u001b[1;33m\u001b[0m\u001b[1;33m\u001b[0m\u001b[1;33m\u001b[0m\u001b[0m\n\u001b[0;32m      2\u001b[0m \u001b[0mcts2\u001b[0m\u001b[1;33m=\u001b[0m\u001b[1;36m0\u001b[0m\u001b[1;33m\u001b[0m\u001b[1;33m\u001b[0m\u001b[0m\n\u001b[1;32m----> 3\u001b[1;33m \u001b[1;32mfor\u001b[0m \u001b[0mi\u001b[0m \u001b[1;32min\u001b[0m \u001b[0mrange\u001b[0m\u001b[1;33m(\u001b[0m\u001b[0mlen\u001b[0m\u001b[1;33m(\u001b[0m\u001b[0mplaycount\u001b[0m\u001b[1;33m)\u001b[0m\u001b[1;33m)\u001b[0m\u001b[1;33m:\u001b[0m\u001b[1;33m\u001b[0m\u001b[1;33m\u001b[0m\u001b[0m\n\u001b[0m\u001b[0;32m      4\u001b[0m     \u001b[0mnam\u001b[0m \u001b[1;33m=\u001b[0m \u001b[0mtrack_names\u001b[0m\u001b[1;33m[\u001b[0m\u001b[0mcts2\u001b[0m\u001b[1;33m]\u001b[0m\u001b[1;33m.\u001b[0m\u001b[0mtext\u001b[0m\u001b[1;33m\u001b[0m\u001b[1;33m\u001b[0m\u001b[0m\n\u001b[0;32m      5\u001b[0m     \u001b[0mstr1\u001b[0m\u001b[1;33m=\u001b[0m \u001b[1;34m'The Hills'\u001b[0m\u001b[1;33m\u001b[0m\u001b[1;33m\u001b[0m\u001b[0m\n",
      "\u001b[1;31mNameError\u001b[0m: name 'playcount' is not defined"
     ]
    }
   ],
   "source": [
    "#test code, whith the Track \"The Hills\" from the artist\n",
    "cts2=0\n",
    "for i in range(len(playcount)):\n",
    "    nam = track_names[cts2].text\n",
    "    str1= 'The Hills'\n",
    "    if str1 in nam:\n",
    "        plays = playcount[cts2].text\n",
    "        print(plays)\n",
    "    \n",
    "        \n",
    "    cts2=cts2+1\n"
   ]
  },
  {
   "cell_type": "markdown",
   "metadata": {},
   "source": [
    "For testing i simulate 3 calls through the spotify web api.\n",
    "The track and artist id will be directly from the api. Based on both id values, selenium will search the related track plays.\n"
   ]
  },
  {
   "cell_type": "code",
   "execution_count": null,
   "metadata": {
    "ExecuteTime": {
     "end_time": "2020-12-14T11:33:33.110796Z",
     "start_time": "2020-12-14T11:33:22.086Z"
    }
   },
   "outputs": [],
   "source": [
    "\n",
    "plist= sp.playlist('37i9dQZF1DX4HROODZmf5u')\n",
    "plist['tracks']['items'][0]['track']['artists'][0]"
   ]
  },
  {
   "cell_type": "code",
   "execution_count": null,
   "metadata": {
    "ExecuteTime": {
     "end_time": "2020-12-14T11:33:33.112791Z",
     "start_time": "2020-12-14T11:33:22.089Z"
    }
   },
   "outputs": [],
   "source": [
    "artid= sp.artist('1Xyo4u8uXC1ZmMpatF05PJ')\n",
    "artid['followers']['total']\n",
    "artid['name']"
   ]
  },
  {
   "cell_type": "markdown",
   "metadata": {
    "ExecuteTime": {
     "end_time": "2020-12-13T17:07:46.915803Z",
     "start_time": "2020-12-13T17:07:46.895567Z"
    }
   },
   "source": [
    "## Sandbox for testing\n"
   ]
  },
  {
   "cell_type": "code",
   "execution_count": null,
   "metadata": {
    "ExecuteTime": {
     "end_time": "2020-12-14T13:41:13.499769Z",
     "start_time": "2020-12-14T13:41:11.416Z"
    }
   },
   "outputs": [],
   "source": [
    "\n",
    "def artist_get(artist_id):\n",
    "    artistget =sp.artist(artist_id)\n",
    "    gen_artist = enumerate(artistget['genres'])\n",
    "    gen_fl = artistget['followers']['total']\n",
    "  \n",
    "    \n",
    "    follower = []\n",
    "    \n",
    "    for i in gen_artist:\n",
    "        try:\n",
    "            genre12 = artistget['genres'][0]\n",
    "            return genre12\n",
    "        except:\n",
    "            print(i)\n",
    "        try:\n",
    "            genre2 = artistget['genres'][1]\n",
    "        except:\n",
    "            print(i)\n",
    "        try:\n",
    "            genre3 = artistget['genres'][2]\n",
    "        except:\n",
    "            print(i)\n",
    "        try:\n",
    "            genre4 = artistget['genres'][3]\n",
    "        except:\n",
    "            print(i)\n",
    "        \n",
    "    \n",
    "       \n",
    "#,genre2,genre3  \n",
    "# for the weeknd\n",
    "artist_get('1Xyo4u8uXC1ZmMpatF05PJ')\n",
    "#genre1),genre2,genre3,gen_fl \n"
   ]
  },
  {
   "cell_type": "code",
   "execution_count": null,
   "metadata": {
    "ExecuteTime": {
     "end_time": "2020-12-14T13:41:13.503790Z",
     "start_time": "2020-12-14T13:41:13.271Z"
    }
   },
   "outputs": [],
   "source": [
    "\n",
    "def artist_get(artist_id):\n",
    "    artistget =sp.artist(artist_id)\n",
    "    gen_artist = enumerate(artistget['genres'])\n",
    "    gen_fl = artistget['followers']['total']\n",
    "    genre12 = []\n",
    "    \n",
    "\n",
    "    \n",
    "#,genre2,genre3  \n",
    "# for the weeknd\n",
    "#genre1,genre2,genre3,gen_fl = artist_get('1Xyo4u8uXC1ZmMpatF05PJ')\n",
    "#genre1),genre2,genre3,gen_fl \n"
   ]
  },
  {
   "cell_type": "code",
   "execution_count": null,
   "metadata": {
    "ExecuteTime": {
     "end_time": "2020-12-14T11:33:33.118776Z",
     "start_time": "2020-12-14T11:33:22.179Z"
    }
   },
   "outputs": [],
   "source": [
    "genre12"
   ]
  },
  {
   "cell_type": "code",
   "execution_count": 8,
   "metadata": {
    "ExecuteTime": {
     "end_time": "2020-12-14T13:41:14.689118Z",
     "start_time": "2020-12-14T13:41:14.679111Z"
    }
   },
   "outputs": [
    {
     "ename": "NameError",
     "evalue": "name 'genre1' is not defined",
     "output_type": "error",
     "traceback": [
      "\u001b[1;31m---------------------------------------------------------------------------\u001b[0m",
      "\u001b[1;31mNameError\u001b[0m                                 Traceback (most recent call last)",
      "\u001b[1;32m<ipython-input-8-68f478e53a6f>\u001b[0m in \u001b[0;36m<module>\u001b[1;34m\u001b[0m\n\u001b[0;32m     15\u001b[0m \u001b[0mlss\u001b[0m \u001b[1;33m=\u001b[0m \u001b[1;33m[\u001b[0m\u001b[1;33m]\u001b[0m\u001b[1;33m\u001b[0m\u001b[1;33m\u001b[0m\u001b[0m\n\u001b[0;32m     16\u001b[0m lss.append( {\n\u001b[1;32m---> 17\u001b[1;33m     \u001b[1;34m'genre'\u001b[0m\u001b[1;33m:\u001b[0m\u001b[0mstr\u001b[0m\u001b[1;33m(\u001b[0m\u001b[0mgenre1\u001b[0m\u001b[1;33m)\u001b[0m\u001b[1;33m.\u001b[0m\u001b[0mstrip\u001b[0m\u001b[1;33m(\u001b[0m\u001b[1;34m'[]'\u001b[0m\u001b[1;33m)\u001b[0m\u001b[1;33m\u001b[0m\u001b[1;33m\u001b[0m\u001b[0m\n\u001b[0m\u001b[0;32m     18\u001b[0m }\n\u001b[0;32m     19\u001b[0m \u001b[1;33m\u001b[0m\u001b[0m\n",
      "\u001b[1;31mNameError\u001b[0m: name 'genre1' is not defined"
     ]
    }
   ],
   "source": [
    "\n",
    "def artist_get(artist_id):\n",
    "    artistget =sp.artist(artist_id)\n",
    "    gen_artist = enumerate(artistget['genres'])\n",
    "    gen_fl = artistget['followers']['total']\n",
    "    if len(gen_artist) == 3:\n",
    "        genre1 = artistget['genres'][0]\n",
    "        genre2 = artistget['genres'][1]\n",
    "        genre3 = artistget['genres'][2]\n",
    "        \n",
    "    return genre1\n",
    "#,genre2,genre3  \n",
    "# for the weeknd\n",
    "#genre1,genre2,genre3,gen_fl = artist_get('1Xyo4u8uXC1ZmMpatF05PJ')\n",
    "#genre1),genre2,genre3,gen_fl \n",
    "lss = []\n",
    "lss.append( {\n",
    "    'genre':str(genre1).strip('[]')\n",
    "}\n",
    "\n",
    ")\n",
    "\n",
    "artist_get"
   ]
  },
  {
   "cell_type": "markdown",
   "metadata": {},
   "source": [
    "# Final data gathering by scraping and web api"
   ]
  },
  {
   "cell_type": "markdown",
   "metadata": {},
   "source": [
    "Now the scraping tool is working fine and api plus scraping data can be work together. Both data sources can be stored in a dataframe. \\\n",
    "\n",
    "Lets now define a function that only needs playlist id to work.\n",
    "\n",
    "This function will call the spotify web api get track information and audio features.\n",
    "Also it will gather the artist id within each top track. This artist id will be used to scrape with the selenium code. \n",
    "Following data need to be stored for analysis.\n",
    "\n",
    "- playlist name\n",
    "- playlist description\n",
    "- track id\n",
    "- track name\n",
    "- track plays\n",
    "- artist name\n",
    "- album\n",
    "- explicit of track content\n",
    "- popularity ( measured by spotify´s algorithm)\n",
    "- duration of track length\n",
    "- "
   ]
  },
  {
   "cell_type": "markdown",
   "metadata": {},
   "source": [
    "Below i wrote a function that will automaticly gather track, artist and audio_feature data from different api endpoints.\n",
    "The spotify data structure was a bit difficult to read especially the artist elements were on different spots.\n",
    "This function provide data gathering also if different artist worked one track. \\7\n",
    "\n",
    "\n",
    "\n",
    "All data gets stored in one list and this list will be stored as pandas DataFrame at the end of the function.\n",
    "\n",
    "he paylist_tracks function only needs the playlist id as string, to work.\n",
    "\n",
    " "
   ]
  },
  {
   "cell_type": "code",
   "execution_count": null,
   "metadata": {
    "ExecuteTime": {
     "end_time": "2020-12-14T01:44:05.446476Z",
     "start_time": "2020-12-14T01:43:52.828Z"
    }
   },
   "outputs": [],
   "source": [
    "def plays_get(artist_id):\n",
    "    \n",
    "    try:\n",
    "        #start web driver\n",
    "        driver= webdriver.Chrome(executable_path=r\"C:\\Users\\name1\\Downloads\\chromedriver_win32\\chromedriver.exe\",chrome_options=options) #Path to Chrome Driver\n",
    "\n",
    "        url = 'https://open.spotify.com'\n",
    "        #dynamic driver call\n",
    "        url1 =url+'/artist/'+ artist_id\n",
    "        driver.get(url1)\n",
    "        time.sleep(2)\n",
    "    except:\n",
    "        print('driver or url wrong')\n",
    "    try:\n",
    "        #click cockies agreement\n",
    "        driver.find_element_by_id('onetrust-accept-btn-handler').click()\n",
    "        time.sleep(3)\n",
    "        #click \"show more \" to get all top track\n",
    "        driver.find_element_by_class_name('_8eaf9c7e0fab279ec19ca81d822db2ad-scss').click()\n",
    "    except:\n",
    "        print('selenium clicks are wrong')\n",
    "        \n",
    "    # get top tracks names\n",
    "    track_names_driver=driver.find_elements_by_class_name('da0bc4060bb1bdb4abb8e402916af32e-scss')\n",
    "    # get top track playcount\n",
    "    playcount = driver.find_elements_by_class_name(\"d47b790d001ed769adcd9ddfc0e83acc-scss\")\n",
    "    #time.sleep(1)\n",
    "    \n",
    "    #get playcounts\n",
    "        #print(' selenium didnt find top tracks element in webpage')\n",
    "    \n",
    "    \n",
    "    countsonplays1 = []\n",
    "    \n",
    "    for i in range(10):\n",
    "        ctl11 = 0 \n",
    "        nms = track_names_driver[ctl11].text\n",
    "        print(nms)\n",
    "        print(title)\n",
    "            \n",
    "        \n",
    "        #try:\n",
    "        if title in nms:\n",
    "            f = playcount[ctl11].text\n",
    "            countsonplays1.append(f)\n",
    "            print(f)\n",
    "            return f\n",
    "            #ctl11 = 0\n",
    "            break\n",
    "        else:\n",
    "            e = 'NaN'\n",
    "            print('plays not grabbed for', nms)\n",
    "            #return e\n",
    "    ctl11 = ctl11+1\n",
    "    \n",
    "        #except:\n",
    "            #print('for loop and if conditional dont get related track plays')\n",
    "        \n",
    "        \n",
    "    \n",
    "        \n",
    "    \n",
    "    driver.quit()   \n",
    "    #return f\n",
    "    \n",
    "    \n",
    "    "
   ]
  },
  {
   "cell_type": "markdown",
   "metadata": {
    "heading_collapsed": true
   },
   "source": [
    "## Final Code (only change when needed)\n",
    "\n",
    "Below you find the findal function which scrapes the spotify API and spotify web app.\n",
    "\n",
    "Do not chnage this code.\n",
    "\n",
    "Final call: **playlist_tracks(id)**\n",
    "\n"
   ]
  },
  {
   "cell_type": "code",
   "execution_count": null,
   "metadata": {
    "ExecuteTime": {
     "end_time": "2020-12-14T01:44:05.448471Z",
     "start_time": "2020-12-14T01:43:52.915Z"
    },
    "hidden": true
   },
   "outputs": [],
   "source": [
    "###!!!!!!!!!FINAL with Range aslong as Playist track total count\n",
    "\n",
    "#function for get playlist tracks with audiofeatures\n",
    "\n",
    "def playlist_tracks(id):\n",
    "    # api call\n",
    "    plist = sp.playlist(id)\n",
    "    \n",
    "    #count of tracks\n",
    "    total_tracks = plist['tracks']['total']\n",
    "    #emtpy list\n",
    "    tracks_list= []\n",
    "    #count \n",
    "    cts = 0\n",
    "    ##################################################################################################\n",
    "    #audiofeatures call from spotify API\n",
    "    \n",
    "    def audiof(id):\n",
    "        feat=sp.audio_features(id)\n",
    "        return feat\n",
    "    ###################################################################################################\n",
    "    # join strings\n",
    "    def tostr(data, sep):\n",
    "       # Join all the strings in list\n",
    "        string = sep.join(data)\n",
    "        return string\n",
    "    \n",
    "    ##################################################################################################\n",
    "    # getting plays from selenium\n",
    "    def plays_get(artist_id):\n",
    "    \n",
    "        try:\n",
    "        #start web driver\n",
    "            driver= webdriver.Chrome(executable_path=r\"C:\\Users\\name1\\Downloads\\chromedriver_win32\\chromedriver.exe\",chrome_options=options) #Path to Chrome Driver\n",
    "\n",
    "            url = 'https://open.spotify.com'\n",
    "            #dynamic driver call\n",
    "            url1 =url+'/artist/'+ artist_id\n",
    "            driver.get(url1)\n",
    "            time.sleep(2)\n",
    "        except:\n",
    "            print('driver or url wrong')\n",
    "        try:\n",
    "            #click cockies agreement\n",
    "            driver.find_element_by_id('onetrust-accept-btn-handler').click()\n",
    "            time.sleep(3)\n",
    "            #click \"show more \" to get all top track\n",
    "            driver.find_element_by_class_name('_8eaf9c7e0fab279ec19ca81d822db2ad-scss').click()\n",
    "        except:\n",
    "            print('selenium clicks are wrong')\n",
    "        \n",
    "        # get top tracks names\n",
    "        track_names_driver=driver.find_elements_by_class_name('da0bc4060bb1bdb4abb8e402916af32e-scss')\n",
    "        # get top track playcount\n",
    "        playcount = driver.find_elements_by_class_name(\"d47b790d001ed769adcd9ddfc0e83acc-scss\")\n",
    "        #time.sleep(1)\n",
    "    \n",
    "        #get playcounts\n",
    "            #print(' selenium didnt find top tracks element in webpage')\n",
    "    \n",
    "    \n",
    "        countsonplays1 = []\n",
    "        ctl11 = 0\n",
    "        for i in range(10):\n",
    "             \n",
    "            nms = track_names_driver[ctl11].text\n",
    "            print('selenium',nms)\n",
    "            print('api',title)\n",
    "            \n",
    "        \n",
    "            try:\n",
    "                if title in nms:\n",
    "                    f = playcount[ctl11].text\n",
    "                    countsonplays1.append(f)\n",
    "                    #print(f)\n",
    "                    return f\n",
    "                    ctl11 = 0\n",
    "                    break\n",
    "                else:\n",
    "                    #e = 'NaN'\n",
    "                    #print('plays not grabbed for', nms)\n",
    "                    #return e\n",
    "                    ctl11 = ctl11+1\n",
    "            \n",
    "\n",
    "            except:\n",
    "                e = 'NaN'\n",
    "                return e\n",
    "                \n",
    "            \n",
    "            #ctl11 = ctl11+1\n",
    "    \n",
    "        \n",
    "    \n",
    "    driver.quit()   \n",
    "        #return f\n",
    "    \n",
    "    ####################################################################################################################\n",
    "    \n",
    "    ##################################################################################################################\n",
    "    # playlists grabber from Spotify API\n",
    "    # produces variables for selenium scraper, title\n",
    "    #for testint ONLY , ONLY 5 API calls\n",
    "    for i in range(total_tracks):\n",
    "        # playlist information\n",
    "        playlistname = plist['name']\n",
    "        descr = plist['description']\n",
    "        #id, track title, popularity, artist, explicit\n",
    "        ids = plist['tracks']['items'][cts]['track']['id']\n",
    "        title = plist['tracks']['items'][cts]['track']['name']\n",
    "        \n",
    "        \n",
    "        album = plist['tracks']['items'][cts]['track']['album']['name']\n",
    "        pop = plist['tracks']['items'][cts]['track']['popularity']\n",
    "        artist = plist['tracks']['items'][cts]['track']['artists'][0]['name']\n",
    "        artist_id = plist['tracks']['items'][cts]['track']['artists'][0]['id']\n",
    "        expl = plist['tracks']['items'][cts]['track']['explicit']\n",
    "        \n",
    "        #get play per function\n",
    "        playscounts = str(plays_get(artist_id)).replace('.',\"\")\n",
    "        \n",
    "        # if more than 1 artist\n",
    "        lens = len(plist['tracks']['items'][cts]['track']['artists'])\n",
    "        if lens >= 2:\n",
    "            ct1 = 0\n",
    "            artist1 =[]\n",
    "            for x in range(lens):\n",
    "                artist = plist['tracks']['items'][cts]['track']['artists'][ct1]['name']\n",
    "                artist1.append(artist)\n",
    "                ct1= ct1+1\n",
    "        else:\n",
    "            artist1=[]\n",
    "            artist2 = plist['tracks']['items'][cts]['track']['artists'][0]['name']\n",
    "            artist1.append(artist2)\n",
    "        \n",
    "        #audio features\n",
    "        feats = audiof(ids)[0]\n",
    "        dur = feats['duration_ms']\n",
    "        dance =feats['danceability']\n",
    "        energy =feats['energy']\n",
    "        key = feats['key']\n",
    "        loud= feats['loudness']\n",
    "        mode = feats['mode']\n",
    "        speech = feats['speechiness']\n",
    "        acoustic = feats['acousticness']\n",
    "        inst = feats['instrumentalness']\n",
    "        live = feats['liveness']\n",
    "        val = feats['valence']\n",
    "        tempo = feats['tempo']\n",
    "        sig = feats['time_signature']\n",
    "        #build the later dataframe\n",
    "        tracks_list.append({\n",
    "                    'playlist':str(playlistname),\n",
    "                    'description':str(descr),\n",
    "                    'id':str(ids),\n",
    "                    'title':str(title),\n",
    "                    #get plays from selenium, deleting point seperator for clean integer\n",
    "                    'plays':playscounts,\n",
    "                    'album':str(album),\n",
    "                    'artist/s':tostr(artist1,\", \"),\n",
    "                    'artist_id':artist_id,\n",
    "                    'popularity':int(pop),\n",
    "                       \n",
    "                    'explicit':int(expl),\n",
    "                    'duration':int(dur),\n",
    "                    'danceability':dance,\n",
    "                    'energy':energy,\n",
    "                    'key':key,\n",
    "                    'loudness':loud,\n",
    "                    'mode':mode,\n",
    "                    'speechiness':speech,\n",
    "                    'acousticness':acoustic,\n",
    "                    'instrumentalness':inst,\n",
    "                    'liveness':live,\n",
    "                    'valence':val,\n",
    "                    'tempo':tempo,\n",
    "                    'time_signature':sig\n",
    "                                        \n",
    "                   })\n",
    "        \n",
    "        #increase count\n",
    "        cts = cts+1\n",
    "    \n",
    "    df = pd.DataFrame(tracks_list)\n",
    "    return df"
   ]
  },
  {
   "cell_type": "markdown",
   "metadata": {
    "ExecuteTime": {
     "end_time": "2020-12-13T14:14:24.673318Z",
     "start_time": "2020-12-13T14:14:24.663378Z"
    }
   },
   "source": [
    "## Test Code\n",
    "\n",
    "Below is the test code. It runs and gets 5 results.\n"
   ]
  },
  {
   "cell_type": "code",
   "execution_count": null,
   "metadata": {
    "ExecuteTime": {
     "end_time": "2020-12-14T01:44:05.450464Z",
     "start_time": "2020-12-14T01:43:52.994Z"
    }
   },
   "outputs": [],
   "source": [
    "###!!!!!!!!!Range 5, only 5 ROWS FROM API  FOR TESTING if code works correct\n",
    "\n",
    "#function for get playlist tracks with audiofeatures\n",
    "\n",
    "def playlist_tracks_test(id):\n",
    "    # api call\n",
    "    plist = sp.playlist(id)\n",
    "    \n",
    "    #count of tracks\n",
    "    total_tracks = plist['tracks']['total']\n",
    "    print(total_tracks)\n",
    "    #emtpy list\n",
    "    tracks_list= []\n",
    "    #count \n",
    "    cts = 0\n",
    "    \n",
    "    #########################################################################\n",
    "    # get artist genre follower\n",
    "    \n",
    "    \n",
    "    def artist_get(artist_id):\n",
    "        artistget =sp.artist(artist_id)\n",
    "        gen_artist = enumerate(artistget['genres'])\n",
    "        \n",
    "        \n",
    "        follower_a = artistget['followers']['total']\n",
    "        \n",
    "        genre1 = []\n",
    "        genre2 = []\n",
    "        genre3 = []\n",
    "        for i in gen_artist:\n",
    "            \n",
    "            \n",
    "        \n",
    "            if i[0] == 0:\n",
    "                genre1.append(i[1])\n",
    "            elif i[0] == 1:\n",
    "                genre2.append(i[1])\n",
    "            elif i[0] == 2:\n",
    "                genre3.append(i[1])\n",
    "            else:\n",
    "                print('more genres')\n",
    "                \n",
    "        return genre1,genre2,genre3,follower_a\n",
    "        \n",
    "    ##################################################################################################\n",
    "    #audiofeatures function from spotify API\n",
    "    \n",
    "    def audiof(id):\n",
    "        feat=sp.audio_features(id)\n",
    "        return feat\n",
    "    ###################################################################################################\n",
    "    # join strings function for concenate different artist to one cell\n",
    "    def tostr(data, sep):\n",
    "       # Join all the strings in list\n",
    "        string = sep.join(data)\n",
    "        return string\n",
    "    \n",
    "    ##################################################################################################\n",
    "    # getting plays from selenium\n",
    "    def plays_get(artist_id):\n",
    "    \n",
    "        try:\n",
    "        #start web driver\n",
    "            driver= webdriver.Chrome(executable_path=r\"C:\\Users\\name1\\Downloads\\chromedriver_win32\\chromedriver.exe\",chrome_options=options) #Path to Chrome Driver\n",
    "\n",
    "            url = 'https://open.spotify.com'\n",
    "            #dynamic driver call\n",
    "            url1 =url+'/artist/'+ artist_id\n",
    "            driver.get(url1)\n",
    "            time.sleep(2)\n",
    "        except:\n",
    "            print('driver or url wrong')\n",
    "        try:\n",
    "            #click cockies agreement\n",
    "            driver.find_element_by_id('onetrust-accept-btn-handler').click()\n",
    "            #time.sleep(10)\n",
    "            #click \"show more \" to get all top track\n",
    "            driver.find_element_by_class_name('_8eaf9c7e0fab279ec19ca81d822db2ad-scss').click()\n",
    "        except:\n",
    "            print('selenium clicks are wrong')\n",
    "        \n",
    "        # get top tracks names\n",
    "        track_names_driver=driver.find_elements_by_class_name('da0bc4060bb1bdb4abb8e402916af32e-scss')\n",
    "        # get top track playcount\n",
    "        playcount = driver.find_elements_by_class_name(\"d47b790d001ed769adcd9ddfc0e83acc-scss\")\n",
    "        #time.sleep(1)\n",
    "    \n",
    "        #get playcounts\n",
    "            #print(' selenium didnt find top tracks element in webpage')\n",
    "    \n",
    "    \n",
    "        countsonplays1 = []\n",
    "        ctl11 = 0\n",
    "        for i in range(10):\n",
    "             \n",
    "            nms = track_names_driver[ctl11].text\n",
    "            print('selenium',nms)\n",
    "            print('api',title)\n",
    "            \n",
    "        \n",
    "            try:\n",
    "                if title in nms:\n",
    "                    f = playcount[ctl11].text\n",
    "                    countsonplays1.append(f)\n",
    "                    print(f)\n",
    "                    return f\n",
    "                    ctl11 = 0\n",
    "                    break\n",
    "                else:\n",
    "                    #e = 'NaN'\n",
    "                    print('plays not grabbed for', nms)\n",
    "                    #return e\n",
    "                    ctl11 = ctl11+1\n",
    "            \n",
    "\n",
    "            except:\n",
    "                e = 'NaN'\n",
    "                return e\n",
    "                \n",
    "            \n",
    "            #ctl11 = ctl11+1\n",
    "    \n",
    "        \n",
    "    \n",
    "       \n",
    "        #return f\n",
    "    \n",
    "    ####################################################################################################################\n",
    "    \n",
    "    ##################################################################################################################\n",
    "    # playlists grabber from Spotify API\n",
    "    # produces variables for selenium scraper, title\n",
    "    #for testint ONLY , ONLY 5 API calls\n",
    "    for i in range(3):\n",
    "        print('iteration: ',i+1,plist['tracks']['items'][cts]['track']['artists'][0]['name'] )\n",
    "        \n",
    "       \n",
    "        \n",
    "        # playlist information\n",
    "        playlistname = plist['name']\n",
    "        descr = plist['description']\n",
    "        #id, track title, popularity, artist, explicit\n",
    "        ids = plist['tracks']['items'][cts]['track']['id']\n",
    "        title = plist['tracks']['items'][cts]['track']['name']\n",
    "        \n",
    "        \n",
    "        album = plist['tracks']['items'][cts]['track']['album']['name']\n",
    "        pop = plist['tracks']['items'][cts]['track']['popularity']\n",
    "        artist = plist['tracks']['items'][cts]['track']['artists'][0]['name']\n",
    "        artist_id = plist['tracks']['items'][cts]['track']['artists'][0]['id']\n",
    "        expl = plist['tracks']['items'][cts]['track']['explicit']\n",
    "        \n",
    "        \n",
    "        #get play per function\n",
    "        playscounts = str(plays_get(artist_id)).replace('.',\"\")\n",
    "        ##get_artst function\n",
    "        artist_get(artist_id)\n",
    "        genre1,genre2,genre3,follower_a = artist_get(artist_id)\n",
    "        # if more than 1 artist\n",
    "        lens = len(plist['tracks']['items'][cts]['track']['artists'])\n",
    "        if lens >= 2:\n",
    "            ct1 = 0\n",
    "            artist1 =[]\n",
    "            for x in range(lens):\n",
    "                artist = plist['tracks']['items'][cts]['track']['artists'][ct1]['name']\n",
    "                artist1.append(artist)\n",
    "                ct1= ct1+1\n",
    "        else:\n",
    "            artist1=[]\n",
    "            artist2 = plist['tracks']['items'][cts]['track']['artists'][0]['name']\n",
    "            artist1.append(artist2)\n",
    "        \n",
    "        #audio features\n",
    "        feats = audiof(ids)[0]\n",
    "        dur = feats['duration_ms']\n",
    "        dance =feats['danceability']\n",
    "        energy =feats['energy']\n",
    "        key = feats['key']\n",
    "        loud= feats['loudness']\n",
    "        mode = feats['mode']\n",
    "        speech = feats['speechiness']\n",
    "        acoustic = feats['acousticness']\n",
    "        inst = feats['instrumentalness']\n",
    "        live = feats['liveness']\n",
    "        val = feats['valence']\n",
    "        tempo = feats['tempo']\n",
    "        sig = feats['time_signature']\n",
    "        \n",
    "        \n",
    "        \n",
    "        \n",
    "        #build the later dataframe\n",
    "        tracks_list.append({\n",
    "                    'playlist':str(playlistname),\n",
    "                    'description':str(descr),\n",
    "                    'track_id':str(ids),\n",
    "                    'title':str(title),\n",
    "                    #get plays from selenium, deleting point seperator for clean integer\n",
    "                    'plays':playscounts,\n",
    "                    'album':str(album),\n",
    "                    'artist/s':tostr(artist1,\", \"),\n",
    "                    'artist_id':artist_id,\n",
    "                    'popularity_track':int(pop),\n",
    "            \n",
    "            \n",
    "                    #from get_artist function\n",
    "                    'genre1': str(genre1),\n",
    "                    'genre2':str(genre2),\n",
    "                    'genre3':str(genre3),\n",
    "                    'artist_followers':int(follower_a),\n",
    "            \n",
    "            \n",
    "            \n",
    "                    'explicit':int(expl),\n",
    "                    'duration':int(dur),\n",
    "                    'danceability':dance,\n",
    "                    'energy':energy,\n",
    "                    'key':key,\n",
    "                    'loudness':loud,\n",
    "                    'mode':mode,\n",
    "                    'speechiness':speech,\n",
    "                    'acousticness':acoustic,\n",
    "                    'instrumentalness':inst,\n",
    "                    'liveness':live,\n",
    "                    'valence':val,\n",
    "                    'tempo':tempo,\n",
    "                    'time_signature':sig\n",
    "                                        \n",
    "                   })\n",
    "        print(' ')\n",
    "        #increase count\n",
    "        cts = cts+1\n",
    "    \n",
    "    df = pd.DataFrame(tracks_list)\n",
    "    return df\n",
    "driver.quit()"
   ]
  },
  {
   "cell_type": "code",
   "execution_count": null,
   "metadata": {
    "ExecuteTime": {
     "end_time": "2020-12-14T01:44:05.452462Z",
     "start_time": "2020-12-14T01:43:52.998Z"
    }
   },
   "outputs": [],
   "source": [
    "best_tracks_ger_test = playlist_tracks_test('37i9dQZF1DX4HROODZmf5u')\n",
    "best_tracks_ger_test.head()"
   ]
  },
  {
   "cell_type": "code",
   "execution_count": null,
   "metadata": {
    "ExecuteTime": {
     "end_time": "2020-12-14T01:44:05.453457Z",
     "start_time": "2020-12-14T01:43:53.001Z"
    }
   },
   "outputs": [],
   "source": [
    "\n",
    "# most streamed artists in germany, male and female\n",
    "#https://open.spotify.com/playlist/37i9dQZF1DWTdV9tXbHOAv?si=A9OeQAOuSmWhOki7-kdiqg\n",
    "most_artist_ger_test= playlist_tracks_test('37i9dQZF1DWTdV9tXbHOAv')\n",
    "\n"
   ]
  },
  {
   "cell_type": "code",
   "execution_count": null,
   "metadata": {
    "ExecuteTime": {
     "end_time": "2020-12-14T01:44:05.455453Z",
     "start_time": "2020-12-14T01:43:53.004Z"
    }
   },
   "outputs": [],
   "source": [
    "most_artist_ger_test.head()"
   ]
  },
  {
   "cell_type": "code",
   "execution_count": null,
   "metadata": {
    "ExecuteTime": {
     "end_time": "2020-12-14T01:44:05.456449Z",
     "start_time": "2020-12-14T01:43:53.006Z"
    }
   },
   "outputs": [],
   "source": [
    "most_artist_ger_test.info()"
   ]
  },
  {
   "cell_type": "code",
   "execution_count": null,
   "metadata": {
    "ExecuteTime": {
     "end_time": "2020-12-14T01:44:05.458444Z",
     "start_time": "2020-12-14T01:43:53.010Z"
    }
   },
   "outputs": [],
   "source": [
    "most_artist_ger.head(5)"
   ]
  },
  {
   "cell_type": "markdown",
   "metadata": {},
   "source": [
    "## Exporting Datasets\n",
    "\n",
    "Every spotify playlist was converted to a dataframe. \n",
    "This dataframes get stored as a csv, for every playlist."
   ]
  },
  {
   "cell_type": "code",
   "execution_count": null,
   "metadata": {
    "ExecuteTime": {
     "end_time": "2020-12-14T11:39:32.980578Z",
     "start_time": "2020-12-14T11:39:32.969574Z"
    }
   },
   "outputs": [],
   "source": [
    "import seaborn as sb\n",
    "import matplotlib.pyplot as plt\n",
    "plt.style.use('dark_background')\n",
    "sb.barplot(data=most_artist_ger,x='popularity',y='artist/s',color='lightgreen')\n"
   ]
  },
  {
   "cell_type": "code",
   "execution_count": null,
   "metadata": {
    "ExecuteTime": {
     "end_time": "2020-12-14T11:34:07.266635Z",
     "start_time": "2020-12-14T11:34:07.258685Z"
    }
   },
   "outputs": [],
   "source": [
    "# top global track 2020\n",
    "#https://open.spotify.com/playlist/37i9dQZF1DX7Jl5KP2eZaS?si=T0vjmXV7TbqJ6yakXhikWw\n",
    "\n",
    "most_tracks_glob = playlist_tracks('37i9dQZF1DX7Jl5KP2eZaS')\n"
   ]
  },
  {
   "cell_type": "code",
   "execution_count": null,
   "metadata": {
    "ExecuteTime": {
     "end_time": "2020-12-14T11:34:12.485869Z",
     "start_time": "2020-12-14T11:34:12.269Z"
    },
    "scrolled": true
   },
   "outputs": [],
   "source": [
    "most_tracks_glob.head(50)"
   ]
  },
  {
   "cell_type": "code",
   "execution_count": null,
   "metadata": {
    "ExecuteTime": {
     "end_time": "2020-12-14T11:34:14.043377Z",
     "start_time": "2020-12-14T11:34:14.034186Z"
    }
   },
   "outputs": [],
   "source": [
    "most_tracks_glob.to_csv('most_streamed_tracks2020_global.csv',index=False)"
   ]
  },
  {
   "cell_type": "code",
   "execution_count": null,
   "metadata": {
    "ExecuteTime": {
     "end_time": "2020-12-14T01:44:05.472405Z",
     "start_time": "2020-12-14T01:43:53.110Z"
    }
   },
   "outputs": [],
   "source": [
    "plt.figure(figsize=(10,30))\n",
    "sb.barplot(data=most_tracks_glob,y='title',x='popularity',color='lightgreen')\n"
   ]
  },
  {
   "cell_type": "code",
   "execution_count": null,
   "metadata": {
    "ExecuteTime": {
     "end_time": "2020-12-14T01:44:05.474400Z",
     "start_time": "2020-12-14T01:43:53.113Z"
    }
   },
   "outputs": [],
   "source": [
    "# most streamed tracks2020 germany\n",
    "most_tracks_ger = playlist_tracks('37i9dQZF1DX4HROODZmf5u')\n",
    "\n",
    "\n"
   ]
  },
  {
   "cell_type": "code",
   "execution_count": null,
   "metadata": {
    "ExecuteTime": {
     "end_time": "2020-12-14T01:44:05.478391Z",
     "start_time": "2020-12-14T01:43:53.117Z"
    },
    "scrolled": true
   },
   "outputs": [],
   "source": [
    "most_tracks_ger.head(10)"
   ]
  },
  {
   "cell_type": "code",
   "execution_count": null,
   "metadata": {
    "ExecuteTime": {
     "end_time": "2020-12-14T01:44:05.479388Z",
     "start_time": "2020-12-14T01:43:53.121Z"
    }
   },
   "outputs": [],
   "source": [
    "most_artist_ger.to_csv('most_streamed_artist2020_germany.csv',index=False)"
   ]
  },
  {
   "cell_type": "code",
   "execution_count": null,
   "metadata": {
    "ExecuteTime": {
     "end_time": "2020-12-14T01:44:05.481383Z",
     "start_time": "2020-12-14T01:43:53.124Z"
    }
   },
   "outputs": [],
   "source": [
    "\n",
    "#spotify:playlist:37i9dQZF1DX4HROODZmf5u\n",
    "\n",
    "most_tracks_ger.to_csv('most_streamed_tracks2020_germany.csv',index=False)"
   ]
  },
  {
   "cell_type": "code",
   "execution_count": null,
   "metadata": {
    "scrolled": true
   },
   "outputs": [],
   "source": [
    "\n"
   ]
  },
  {
   "cell_type": "code",
   "execution_count": null,
   "metadata": {
    "ExecuteTime": {
     "end_time": "2020-12-14T01:44:05.483377Z",
     "start_time": "2020-12-14T01:43:53.130Z"
    }
   },
   "outputs": [],
   "source": [
    "\"\"\"# spotify self playlists\n",
    "cts=0\n",
    "spotys = sp.user_playlists('spotify',limit=50)\n",
    "\n",
    "for i in range(100):\n",
    "    lists=spotys['items'][cts]['name']\n",
    "    followers=spotys['items']\n",
    "    print(lists)\n",
    "    cts=cts+1\n",
    "\"\"\""
   ]
  },
  {
   "cell_type": "code",
   "execution_count": null,
   "metadata": {
    "ExecuteTime": {
     "end_time": "2020-12-14T01:44:05.486369Z",
     "start_time": "2020-12-14T01:43:53.134Z"
    }
   },
   "outputs": [],
   "source": [
    "#https://open.spotify.com/playlist/37i9dQZF1DWXgY89J4Sjdb?si=wA30zNdCSOqmMvi7fgmHKQ\n",
    "#top artists 2020 globally\n",
    "\n",
    "most_artist_glob =playlist_tracks('37i9dQZF1DWXgY89J4Sjdb')\n",
    "most_artist_glob.to_csv('most_streamed_artist2020_global.csv',index=False)"
   ]
  },
  {
   "cell_type": "code",
   "execution_count": null,
   "metadata": {
    "ExecuteTime": {
     "end_time": "2020-12-14T01:44:05.487366Z",
     "start_time": "2020-12-14T01:43:53.138Z"
    }
   },
   "outputs": [],
   "source": [
    "most_artist_glob.head(60)"
   ]
  }
 ],
 "metadata": {
  "hide_input": false,
  "kernelspec": {
   "display_name": "Python 3",
   "language": "python",
   "name": "python3"
  },
  "language_info": {
   "codemirror_mode": {
    "name": "ipython",
    "version": 3
   },
   "file_extension": ".py",
   "mimetype": "text/x-python",
   "name": "python",
   "nbconvert_exporter": "python",
   "pygments_lexer": "ipython3",
   "version": "3.7.6"
  },
  "toc": {
   "base_numbering": 1,
   "nav_menu": {},
   "number_sections": true,
   "sideBar": true,
   "skip_h1_title": false,
   "title_cell": "Table of Contents",
   "title_sidebar": "Contents",
   "toc_cell": false,
   "toc_position": {},
   "toc_section_display": true,
   "toc_window_display": true
  },
  "varInspector": {
   "cols": {
    "lenName": 16,
    "lenType": 16,
    "lenVar": 40
   },
   "kernels_config": {
    "python": {
     "delete_cmd_postfix": "",
     "delete_cmd_prefix": "del ",
     "library": "var_list.py",
     "varRefreshCmd": "print(var_dic_list())"
    },
    "r": {
     "delete_cmd_postfix": ") ",
     "delete_cmd_prefix": "rm(",
     "library": "var_list.r",
     "varRefreshCmd": "cat(var_dic_list()) "
    }
   },
   "types_to_exclude": [
    "module",
    "function",
    "builtin_function_or_method",
    "instance",
    "_Feature"
   ],
   "window_display": false
  }
 },
 "nbformat": 4,
 "nbformat_minor": 4
}
